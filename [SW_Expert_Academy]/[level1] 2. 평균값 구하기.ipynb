{
 "cells": [
  {
   "cell_type": "code",
   "execution_count": null,
   "metadata": {},
   "outputs": [],
   "source": [
    "3\n",
    "3 17 1 39 8 41 2 32 99 2\n",
    "22 8 5 123 7 2 63 7 3 46\n",
    "6 63 2 3 58 76 21 33 8 1   "
   ]
  },
  {
   "cell_type": "code",
   "execution_count": 3,
   "metadata": {},
   "outputs": [
    {
     "name": "stdout",
     "output_type": "stream",
     "text": [
      "3 17 1 39 8 41 2 32 99 2\n",
      "#1 24\n",
      "22 8 5 123 7 2 63 7 3 46\n",
      "#2 29\n",
      "6 63 2 3 58 76 21 33 8 1  \n",
      "#3 27\n"
     ]
    }
   ],
   "source": [
    "T = 3\n",
    "for i in range(T):\n",
    "    numbers = list(map(int,input().split()))\n",
    "    print(\"#{} {}\".format(i+1,round(sum(numbers)/len(numbers))))"
   ]
  },
  {
   "cell_type": "code",
   "execution_count": null,
   "metadata": {},
   "outputs": [],
   "source": []
  }
 ],
 "metadata": {
  "kernelspec": {
   "display_name": "Python 3",
   "language": "python",
   "name": "python3"
  },
  "language_info": {
   "codemirror_mode": {
    "name": "ipython",
    "version": 3
   },
   "file_extension": ".py",
   "mimetype": "text/x-python",
   "name": "python",
   "nbconvert_exporter": "python",
   "pygments_lexer": "ipython3",
   "version": "3.8.5"
  }
 },
 "nbformat": 4,
 "nbformat_minor": 4
}
