{
 "cells": [
  {
   "cell_type": "code",
   "execution_count": null,
   "metadata": {},
   "outputs": [],
   "source": [
    "5\n",
    "22220228 \n",
    "20150002\n",
    "01010101\n",
    "20140230\n",
    "11111111"
   ]
  },
  {
   "cell_type": "markdown",
   "metadata": {},
   "source": [
    "# 1. "
   ]
  },
  {
   "cell_type": "code",
   "execution_count": 66,
   "metadata": {},
   "outputs": [
    {
     "name": "stdout",
     "output_type": "stream",
     "text": [
      "22220228 \n",
      "#1 2222/02/28\n",
      "20150002\n",
      "#2 -1\n",
      "01010101\n",
      "#3 0101/01/1\n",
      "20140230\n",
      "#4 -1\n",
      "11111111\n",
      "#5 1111/11/11\n"
     ]
    }
   ],
   "source": [
    "T = int(input())\n",
    "end = [31,28,31,30,31,30,31,31,30,31,30,31]\n",
    "for i in range(T):\n",
    "    numbers = input()\n",
    "    year = numbers[0:4]\n",
    "    month = int(numbers[4:6])\n",
    "    day = int(numbers[6:8])\n",
    "    \n",
    "    if month > 12 or month < 1 or day > end[month-1]:\n",
    "        result = -1\n",
    "    else:\n",
    "        result = ('{}/{}/{}'.format(year,numbers[4:6],day))\n",
    "        \n",
    "    print(f\"#{i+1} {result}\")"
   ]
  },
  {
   "cell_type": "markdown",
   "metadata": {},
   "source": [
    "# 2."
   ]
  },
  {
   "cell_type": "code",
   "execution_count": 69,
   "metadata": {},
   "outputs": [
    {
     "name": "stdout",
     "output_type": "stream",
     "text": [
      "5\n",
      "22220228 \n",
      "#1 2222/02/28\n",
      "20150002\n",
      "#2 -1\n",
      "01010101\n",
      "#3 0101/01/01\n",
      "20140230\n",
      "#4 -1\n",
      "11111111\n",
      "#5 1111/11/11\n"
     ]
    }
   ],
   "source": [
    "md = [31, 28, 31, 30, 31, 30, 31, 31, 30, 31, 30, 31]\n",
    "T = int(input())\n",
    "for tt in range(T):\n",
    "    s = input()\n",
    "    month = int(s[4:6])\n",
    "    day = int(s[6:8])\n",
    "    res = \"-1\"\n",
    "    \n",
    "    if 1<=month and month<=12 and 1<=day and day<=md[month-1]:\n",
    "    \tres = s[0:4]+\"/\"+s[4:6]+\"/\"+s[6:8]\n",
    "        # 같은 타입일때만 가능하며 여기서는 str 붙여주기 위함.\n",
    "        \n",
    "    print( f\"#{tt+1} {res}\" )"
   ]
  },
  {
   "cell_type": "code",
   "execution_count": 74,
   "metadata": {},
   "outputs": [
    {
     "name": "stdout",
     "output_type": "stream",
     "text": [
      "123\n",
      "6\n"
     ]
    }
   ],
   "source": [
    "a = '1'+'2'+'3'\n",
    "b = 1+2+3\n",
    "print(a)\n",
    "print(b)"
   ]
  }
 ],
 "metadata": {
  "kernelspec": {
   "display_name": "Python 3",
   "language": "python",
   "name": "python3"
  },
  "language_info": {
   "codemirror_mode": {
    "name": "ipython",
    "version": 3
   },
   "file_extension": ".py",
   "mimetype": "text/x-python",
   "name": "python",
   "nbconvert_exporter": "python",
   "pygments_lexer": "ipython3",
   "version": "3.8.5"
  }
 },
 "nbformat": 4,
 "nbformat_minor": 4
}
