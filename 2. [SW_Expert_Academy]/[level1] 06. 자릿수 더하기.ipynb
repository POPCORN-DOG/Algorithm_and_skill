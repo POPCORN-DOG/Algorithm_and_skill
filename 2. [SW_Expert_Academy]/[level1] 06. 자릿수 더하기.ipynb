{
 "cells": [
  {
   "cell_type": "markdown",
   "metadata": {},
   "source": [
    "# 2058\n",
    "- input()로 숫자를 입력하면 str\n",
    "- t = 6789 로 입력하면 int"
   ]
  },
  {
   "cell_type": "code",
   "execution_count": 5,
   "metadata": {
    "scrolled": true
   },
   "outputs": [
    {
     "name": "stdout",
     "output_type": "stream",
     "text": [
      "6789\n",
      "30\n",
      "6789\n",
      "[6, 7, 8, 9]\n",
      "6789\n",
      "30\n"
     ]
    }
   ],
   "source": [
    "# 6789 = 30\n",
    "print(   sum(map(int, input()))        )\n",
    "print(   [int(x) for x in input()]     )\n",
    "print(   sum([int(x) for x in input()]))"
   ]
  },
  {
   "cell_type": "code",
   "execution_count": 8,
   "metadata": {},
   "outputs": [
    {
     "name": "stdout",
     "output_type": "stream",
     "text": [
      "6789\n",
      "30\n"
     ]
    }
   ],
   "source": [
    "# 문제에서 주어진 int 설정으로 인해 str로 바꿔준후 map해준다.\n",
    "T = int(input())\n",
    "print(sum(map(int, str(T))))"
   ]
  }
 ],
 "metadata": {
  "kernelspec": {
   "display_name": "Python 3",
   "language": "python",
   "name": "python3"
  },
  "language_info": {
   "codemirror_mode": {
    "name": "ipython",
    "version": 3
   },
   "file_extension": ".py",
   "mimetype": "text/x-python",
   "name": "python",
   "nbconvert_exporter": "python",
   "pygments_lexer": "ipython3",
   "version": "3.8.5"
  }
 },
 "nbformat": 4,
 "nbformat_minor": 4
}
