{
 "cells": [
  {
   "cell_type": "markdown",
   "metadata": {},
   "source": [
    "# 2070 "
   ]
  },
  {
   "cell_type": "code",
   "execution_count": null,
   "metadata": {},
   "outputs": [],
   "source": [
    "3\n",
    "3 8 \n",
    "7 7 \n",
    "369 123      "
   ]
  },
  {
   "cell_type": "markdown",
   "metadata": {},
   "source": [
    "# 1. %d(정수) %f(실수) #s(문자열)"
   ]
  },
  {
   "cell_type": "code",
   "execution_count": 2,
   "metadata": {},
   "outputs": [
    {
     "name": "stdout",
     "output_type": "stream",
     "text": [
      "3 8 \n",
      "#1  <\n",
      "7 7 \n",
      "#2  =\n",
      "369 123 \n",
      "#3  >\n"
     ]
    }
   ],
   "source": [
    "T = 3\n",
    "for i in range(T):\n",
    "    a, b = list(map(int, input().split()))\n",
    "    print(\"#%d\" % (i+1),end=' ')\n",
    "    if a < b:\n",
    "        print(\"<\")\n",
    "    elif a == b:\n",
    "        print(\"=\")\n",
    "    else :\n",
    "        print(\">\")"
   ]
  },
  {
   "cell_type": "markdown",
   "metadata": {},
   "source": [
    "# 2. f-string 포매팅"
   ]
  },
  {
   "cell_type": "code",
   "execution_count": 3,
   "metadata": {},
   "outputs": [
    {
     "name": "stdout",
     "output_type": "stream",
     "text": [
      "3 8 \n",
      "#1  <\n",
      "7 7 \n",
      "#2  =\n",
      "369 123\n",
      "#3  >\n"
     ]
    }
   ],
   "source": [
    "T = 3\n",
    "for i in range(T):\n",
    "    a, b = list(map(int, input().split()))\n",
    "    print(f\"#{i+1}\",end=' ')\n",
    "    if a < b:\n",
    "        print(\"<\")\n",
    "    elif a == b:\n",
    "        print(\"=\")\n",
    "    else :\n",
    "        print(\">\")"
   ]
  },
  {
   "cell_type": "code",
   "execution_count": 1,
   "metadata": {},
   "outputs": [
    {
     "name": "stdout",
     "output_type": "stream",
     "text": [
      "2021년 1월\n",
      "2021년 2월\n",
      "2021년 3월\n",
      "2021년 4월\n",
      "2021년 5월\n",
      "2021년 6월\n",
      "2021년 7월\n",
      "2021년 8월\n",
      "2021년 9월\n",
      "2021년 10월\n",
      "2021년 11월\n",
      "2021년 12월\n"
     ]
    }
   ],
   "source": [
    "month = 1\n",
    "while month <= 12:\n",
    "    print(f'2021년 {month}월')\n",
    "    month += 1"
   ]
  },
  {
   "cell_type": "code",
   "execution_count": null,
   "metadata": {},
   "outputs": [],
   "source": []
  }
 ],
 "metadata": {
  "kernelspec": {
   "display_name": "Python 3",
   "language": "python",
   "name": "python3"
  },
  "language_info": {
   "codemirror_mode": {
    "name": "ipython",
    "version": 3
   },
   "file_extension": ".py",
   "mimetype": "text/x-python",
   "name": "python",
   "nbconvert_exporter": "python",
   "pygments_lexer": "ipython3",
   "version": "3.8.5"
  }
 },
 "nbformat": 4,
 "nbformat_minor": 4
}
