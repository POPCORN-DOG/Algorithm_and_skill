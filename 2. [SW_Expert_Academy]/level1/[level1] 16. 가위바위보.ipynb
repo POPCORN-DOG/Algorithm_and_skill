{
 "cells": [
  {
   "cell_type": "code",
   "execution_count": null,
   "metadata": {},
   "outputs": [],
   "source": [
    "#A와 B가 가위바위보를 하였다.\n",
    "#가위는 1, 바위는 2, 보는 3\n",
    "#input \n",
    "3 2 \n",
    "#output\n",
    "A"
   ]
  },
  {
   "cell_type": "code",
   "execution_count": 17,
   "metadata": {},
   "outputs": [
    {
     "name": "stdout",
     "output_type": "stream",
     "text": [
      "3 1\n",
      "B\n"
     ]
    }
   ],
   "source": [
    "a, b = map(int,input().split())\n",
    "\n",
    "if a - b == 1:\n",
    "    print('A')\n",
    "elif a - b == -1:\n",
    "    print('B')\n",
    "elif a - b == 2:\n",
    "    print('B')\n",
    "else:\n",
    "    print('A')"
   ]
  },
  {
   "cell_type": "code",
   "execution_count": 21,
   "metadata": {},
   "outputs": [
    {
     "name": "stdout",
     "output_type": "stream",
     "text": [
      "2 3\n",
      "B\n"
     ]
    }
   ],
   "source": [
    "a, b = map(int,input().split())\n",
    "\n",
    "if (a-b == -1 | 2):\n",
    "    print('B')\n",
    "else:\n",
    "    print('A')"
   ]
  }
 ],
 "metadata": {
  "kernelspec": {
   "display_name": "Python 3",
   "language": "python",
   "name": "python3"
  },
  "language_info": {
   "codemirror_mode": {
    "name": "ipython",
    "version": 3
   },
   "file_extension": ".py",
   "mimetype": "text/x-python",
   "name": "python",
   "nbconvert_exporter": "python",
   "pygments_lexer": "ipython3",
   "version": "3.8.5"
  }
 },
 "nbformat": 4,
 "nbformat_minor": 4
}
