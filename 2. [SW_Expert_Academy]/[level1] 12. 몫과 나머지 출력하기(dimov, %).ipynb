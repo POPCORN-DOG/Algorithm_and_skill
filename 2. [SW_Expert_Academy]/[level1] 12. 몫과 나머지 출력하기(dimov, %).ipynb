{
 "cells": [
  {
   "cell_type": "markdown",
   "metadata": {},
   "source": [
    "- dimod(a, b)는 2개의 숫자를 입력으로 받는다. \n",
    "- 그리고 a를 b로 나눈 몫과 나머지를 튜플 형태로 돌려주는 함수이다."
   ]
  },
  {
   "cell_type": "code",
   "execution_count": null,
   "metadata": {},
   "outputs": [],
   "source": [
    "#input\n",
    "3   \n",
    "9 2  \n",
    "15 6 \n",
    "369 15        \n",
    "\n",
    "#output\n",
    "#1 4 1\n",
    "#2 2 3\n",
    "#3 24 9"
   ]
  },
  {
   "cell_type": "code",
   "execution_count": 8,
   "metadata": {},
   "outputs": [
    {
     "name": "stdout",
     "output_type": "stream",
     "text": [
      "9 2 \n",
      "#1 4 1\n",
      "#1 4 1\n",
      "15 6\n",
      "#2 2 3\n",
      "#2 2 3\n",
      "369 15\n",
      "#3 24 9\n",
      "#3 24 9\n"
     ]
    }
   ],
   "source": [
    "#T = int(input())\n",
    "T =3\n",
    "for i in range(T):\n",
    "    a, b = map(int, input().split())\n",
    "    print('#{} {} {}'.format(i+1,a//b,a%b))\n",
    "    print('#{} {} {}'.format(i+1,divmod(a,b)[0],divmod(a,b)[1]))"
   ]
  }
 ],
 "metadata": {
  "kernelspec": {
   "display_name": "Python 3",
   "language": "python",
   "name": "python3"
  },
  "language_info": {
   "codemirror_mode": {
    "name": "ipython",
    "version": 3
   },
   "file_extension": ".py",
   "mimetype": "text/x-python",
   "name": "python",
   "nbconvert_exporter": "python",
   "pygments_lexer": "ipython3",
   "version": "3.8.5"
  }
 },
 "nbformat": 4,
 "nbformat_minor": 4
}
