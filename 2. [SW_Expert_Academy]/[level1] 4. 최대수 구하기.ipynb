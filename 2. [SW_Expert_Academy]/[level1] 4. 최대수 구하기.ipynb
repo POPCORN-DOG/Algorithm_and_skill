{
 "cells": [
  {
   "cell_type": "markdown",
   "metadata": {},
   "source": [
    "# 2068"
   ]
  },
  {
   "cell_type": "code",
   "execution_count": null,
   "metadata": {},
   "outputs": [],
   "source": [
    "3 \n",
    "3 17 1 39 8 41 2 32 99 2\n",
    "22 8 5 123 7 2 63 7 3 46\n",
    "6 63 2 3 58 76 21 33 8 1   "
   ]
  },
  {
   "cell_type": "code",
   "execution_count": 1,
   "metadata": {},
   "outputs": [
    {
     "name": "stdout",
     "output_type": "stream",
     "text": [
      "3 17 1 39 8 41 2 32 99 2\n",
      "#1 99\n",
      "22 8 5 123 7 2 63 7 3 46\n",
      "#2 123\n",
      "6 63 2 3 58 76 21 33 8 1 \n",
      "#3 76\n"
     ]
    }
   ],
   "source": [
    "T = 3\n",
    "for i in range(T):\n",
    "    numbers = list(map(int, input().split()))\n",
    "    print(f'#{i+1}',max(numbers))"
   ]
  }
 ],
 "metadata": {
  "kernelspec": {
   "display_name": "Python 3",
   "language": "python",
   "name": "python3"
  },
  "language_info": {
   "codemirror_mode": {
    "name": "ipython",
    "version": 3
   },
   "file_extension": ".py",
   "mimetype": "text/x-python",
   "name": "python",
   "nbconvert_exporter": "python",
   "pygments_lexer": "ipython3",
   "version": "3.8.5"
  }
 },
 "nbformat": 4,
 "nbformat_minor": 4
}
