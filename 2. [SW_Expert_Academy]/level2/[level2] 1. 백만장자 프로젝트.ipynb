{
 "cells": [
  {
   "cell_type": "code",
   "execution_count": 43,
   "metadata": {},
   "outputs": [
    {
     "name": "stdout",
     "output_type": "stream",
     "text": [
      "3\n",
      "3\n",
      "10 7 6\n",
      "#1 0\n",
      "3\n",
      "3 5 9\n",
      "#2 10\n",
      "5\n",
      "1 1 3 1 2\n",
      "#3 5\n"
     ]
    }
   ],
   "source": [
    "T = int(input())\n",
    "for i in range(T):\n",
    "    count = int(input())\n",
    "    # 거꾸로 시작해야 큰 값을 찾아가면서 작은값을 빼 줄 수 있다.\n",
    "    num = list(map(int,input().split()))[::-1] \n",
    "    # reverse의 첫번째 숫자에서부터 시작하자.\n",
    "    max_num = num[0]\n",
    "    result = 0\n",
    "    \n",
    "    for j in range(1,count):\n",
    "        if max_num > num[j]:\n",
    "            result += max_num - num[j]\n",
    "        else:\n",
    "            # 가장 큰 숫자를 갱신한다.\n",
    "            max_num = num[j]\n",
    "        \n",
    "    print('#{} {}'.format(i+1,result))"
   ]
  }
 ],
 "metadata": {
  "kernelspec": {
   "display_name": "Python 3",
   "language": "python",
   "name": "python3"
  },
  "language_info": {
   "codemirror_mode": {
    "name": "ipython",
    "version": 3
   },
   "file_extension": ".py",
   "mimetype": "text/x-python",
   "name": "python",
   "nbconvert_exporter": "python",
   "pygments_lexer": "ipython3",
   "version": "3.8.5"
  }
 },
 "nbformat": 4,
 "nbformat_minor": 4
}
