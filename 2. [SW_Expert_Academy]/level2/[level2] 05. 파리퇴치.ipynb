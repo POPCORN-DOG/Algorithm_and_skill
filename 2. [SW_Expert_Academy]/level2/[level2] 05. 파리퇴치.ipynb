{
 "cells": [
  {
   "cell_type": "markdown",
   "metadata": {},
   "source": [
    "## 1. 데이터를 입력해준다."
   ]
  },
  {
   "cell_type": "code",
   "execution_count": 152,
   "metadata": {},
   "outputs": [
    {
     "name": "stdout",
     "output_type": "stream",
     "text": [
      "6 3\n",
      "29 21 26 9 5 8\n",
      "21 19 8 0 21 19\n",
      "9 24 2 11 4 24\n",
      "19 29 1 0 21 19\n",
      "10 29 6 18 4 3\n",
      "29 11 15 3 3 29\n"
     ]
    }
   ],
   "source": [
    "N, M = map(int,input().split())\n",
    "square = [list(map(int, input().split())) for _ in range(N)]"
   ]
  },
  {
   "cell_type": "markdown",
   "metadata": {},
   "source": [
    "## 2. N행과 묶음에 따른 (N-M+1)열 "
   ]
  },
  {
   "cell_type": "code",
   "execution_count": 153,
   "metadata": {},
   "outputs": [
    {
     "data": {
      "text/plain": [
       "[[[29, 21, 26], [21, 26, 9], [26, 9, 5], [9, 5, 8]],\n",
       " [[21, 19, 8], [19, 8, 0], [8, 0, 21], [0, 21, 19]],\n",
       " [[9, 24, 2], [24, 2, 11], [2, 11, 4], [11, 4, 24]],\n",
       " [[19, 29, 1], [29, 1, 0], [1, 0, 21], [0, 21, 19]],\n",
       " [[10, 29, 6], [29, 6, 18], [6, 18, 4], [18, 4, 3]],\n",
       " [[29, 11, 15], [11, 15, 3], [15, 3, 3], [3, 3, 29]]]"
      ]
     },
     "execution_count": 153,
     "metadata": {},
     "output_type": "execute_result"
    }
   ],
   "source": [
    "# ex) j:j+M = 0:0+3 즉, 3묶음씩\n",
    "result=[]\n",
    "for i in range(N):\n",
    "    result.append([square[i][j:j+M] for j in range(N-M+1)])\n",
    "    \n",
    "result"
   ]
  },
  {
   "cell_type": "markdown",
   "metadata": {},
   "source": [
    "## 3. M x M 파리채 크기 "
   ]
  },
  {
   "cell_type": "code",
   "execution_count": 154,
   "metadata": {},
   "outputs": [
    {
     "name": "stdout",
     "output_type": "stream",
     "text": [
      "[29, 21, 26]\n",
      "[21, 19, 8]\n",
      "[9, 24, 2]\n"
     ]
    }
   ],
   "source": [
    "for i in range(M):\n",
    "    print(result[i][0])"
   ]
  },
  {
   "cell_type": "markdown",
   "metadata": {},
   "source": [
    "## 4. MxM 파리채가 윗 1행(N-M+1:열)만 전부 때렸을 경우"
   ]
  },
  {
   "cell_type": "code",
   "execution_count": 155,
   "metadata": {},
   "outputs": [
    {
     "name": "stdout",
     "output_type": "stream",
     "text": [
      "0\n",
      "[29, 21, 26]\n",
      "[21, 19, 8]\n",
      "[9, 24, 2]\n",
      "1\n",
      "[21, 26, 9]\n",
      "[19, 8, 0]\n",
      "[24, 2, 11]\n",
      "2\n",
      "[26, 9, 5]\n",
      "[8, 0, 21]\n",
      "[2, 11, 4]\n"
     ]
    }
   ],
   "source": [
    "for j in range(N-M+1):\n",
    "    print(j)\n",
    "    for i in range(M):\n",
    "        print(result[i][j])"
   ]
  },
  {
   "cell_type": "markdown",
   "metadata": {},
   "source": [
    "## 5. MxM 파리채가 전 (N-M+1)행으로 +k번 행 때렸을 경우"
   ]
  },
  {
   "cell_type": "code",
   "execution_count": 156,
   "metadata": {
    "scrolled": false
   },
   "outputs": [
    {
     "name": "stdout",
     "output_type": "stream",
     "text": [
      "0\n",
      "[29, 21, 26]\n",
      "[21, 19, 8]\n",
      "[9, 24, 2]\n",
      "[21, 26, 9]\n",
      "[19, 8, 0]\n",
      "[24, 2, 11]\n",
      "[26, 9, 5]\n",
      "[8, 0, 21]\n",
      "[2, 11, 4]\n",
      "1\n",
      "[21, 19, 8]\n",
      "[9, 24, 2]\n",
      "[19, 29, 1]\n",
      "[19, 8, 0]\n",
      "[24, 2, 11]\n",
      "[29, 1, 0]\n",
      "[8, 0, 21]\n",
      "[2, 11, 4]\n",
      "[1, 0, 21]\n",
      "2\n",
      "[9, 24, 2]\n",
      "[19, 29, 1]\n",
      "[10, 29, 6]\n",
      "[24, 2, 11]\n",
      "[29, 1, 0]\n",
      "[29, 6, 18]\n",
      "[2, 11, 4]\n",
      "[1, 0, 21]\n",
      "[6, 18, 4]\n"
     ]
    }
   ],
   "source": [
    "for k in range(N-M+1): \n",
    "    print(k)\n",
    "    for j in range(N-M+1): \n",
    "        for i in range(M):\n",
    "            print(result[i+k][j])"
   ]
  },
  {
   "cell_type": "markdown",
   "metadata": {},
   "source": [
    "## 6. 각 파리채 크기만큼 잡은 파리 수를 더해준다."
   ]
  },
  {
   "cell_type": "code",
   "execution_count": 157,
   "metadata": {},
   "outputs": [
    {
     "name": "stdout",
     "output_type": "stream",
     "text": [
      "[159, 120, 86, 132, 94, 68, 129, 120, 67]\n",
      "159\n"
     ]
    }
   ],
   "source": [
    "\n",
    "result2 = []\n",
    "for k in range(M): \n",
    "    for j in range(M):\n",
    "        \n",
    "        a = []\n",
    "        for i in range(M):\n",
    "            a += result[i+k][j]\n",
    "        result2.append(sum(a))\n",
    "\n",
    "print(result2)\n",
    "print(max(result2))"
   ]
  },
  {
   "cell_type": "markdown",
   "metadata": {},
   "source": [
    "# 종합코드"
   ]
  },
  {
   "cell_type": "code",
   "execution_count": 194,
   "metadata": {},
   "outputs": [
    {
     "name": "stdout",
     "output_type": "stream",
     "text": [
      "7 5\n",
      "17 24 11 29 18 21 11\n",
      "8 5 14 0 19 15 17\n",
      "18 25 29 1 29 16 16\n",
      "3 26 27 20 6 2 27\n",
      "20 13 19 8 13 29 15\n",
      "8 22 8 23 21 7 6\n",
      "14 9 9 27 16 23 29\n",
      "[402, 419, 412, 385, 397, 387, 414, 428, 426]\n",
      "428\n"
     ]
    }
   ],
   "source": [
    " for num in range(int(input())):\n",
    "    # 1. 데이터를 입력해준다.\n",
    "    N, M = map(int,input().split())\n",
    "    square = [list(map(int, input().split())) for _ in range(N)]\n",
    "\n",
    "    # 2. N행과 묶음에 따른 (N-M+1)열 \n",
    "    # ex) j:j+M = 0:0+3 즉, 3묶음씩\n",
    "    result=[]\n",
    "    for i in range(N):\n",
    "        result.append([square[i][j:j+M] for j in range(N-M+1)])\n",
    "\n",
    "    # 3. 각 파리채 크기만큼 잡은 파리 수를 더해준다.\n",
    "    result2 = []\n",
    "    for k in range(N-M+1):  # 더할 수 있는 전체 행\n",
    "        for j in range(N-M+1): # 전체 열\n",
    "\n",
    "            a = []\n",
    "            for i in range(M): # 전체 1열 중 기본 1열의 기본 N-M+1행짜리 \n",
    "                a += result[i+k][j] # N-M+1행만큼 합\n",
    "            result2.append(sum(a)) # 합 리스트\n",
    "\n",
    "    print(result2)\n",
    "    print(\"#%d\" % (num+1), max(result2))"
   ]
  }
 ],
 "metadata": {
  "kernelspec": {
   "display_name": "Python 3",
   "language": "python",
   "name": "python3"
  },
  "language_info": {
   "codemirror_mode": {
    "name": "ipython",
    "version": 3
   },
   "file_extension": ".py",
   "mimetype": "text/x-python",
   "name": "python",
   "nbconvert_exporter": "python",
   "pygments_lexer": "ipython3",
   "version": "3.8.5"
  }
 },
 "nbformat": 4,
 "nbformat_minor": 4
}
