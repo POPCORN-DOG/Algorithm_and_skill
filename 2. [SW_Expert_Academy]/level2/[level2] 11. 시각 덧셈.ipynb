{
 "cells": [
  {
   "cell_type": "markdown",
   "metadata": {},
   "source": [
    "### input\n",
    "<pre>\n",
    "3 \n",
    "3 17 1 39\n",
    "8 22 5 10\n",
    "6 53 2 12   \n",
    "</pre>\n",
    "### output\n",
    "<pre>\n",
    "#1 4 56\n",
    "#2 1 32\n",
    "#3 9 5\n",
    "</pre>"
   ]
  },
  {
   "cell_type": "code",
   "execution_count": 42,
   "metadata": {},
   "outputs": [
    {
     "name": "stdout",
     "output_type": "stream",
     "text": [
      "3\n",
      "3 17 1 39\n",
      "4 56\n",
      "8 22 5 10\n",
      "1 32\n",
      "6 53 2 12\n",
      "9 5\n"
     ]
    }
   ],
   "source": [
    "T = int(input())\n",
    "for i in range(T):\n",
    "    data = list(map(int, input().split()))\n",
    "    HOUR = (data[0] + data[2]) % 12 + ((data[1] + data[3]) // 60)\n",
    "    MINUTE = (data[1] + data[3]) % 60\n",
    "    print(HOUR,MINUTE)"
   ]
  },
  {
   "cell_type": "code",
   "execution_count": 49,
   "metadata": {},
   "outputs": [
    {
     "name": "stdout",
     "output_type": "stream",
     "text": [
      "몫: 0\n",
      "나머지: 50\n"
     ]
    }
   ],
   "source": [
    "print('몫:',(10 + 40) // 60) # 소수점 이하의 수를 모두 버리고 몫만 \n",
    "print('나머지:',(10 + 40) % 60)"
   ]
  },
  {
   "cell_type": "code",
   "execution_count": 50,
   "metadata": {},
   "outputs": [
    {
     "data": {
      "text/plain": [
       "0.8333333333333334"
      ]
     },
     "execution_count": 50,
     "metadata": {},
     "output_type": "execute_result"
    }
   ],
   "source": [
    "50 / 60"
   ]
  }
 ],
 "metadata": {
  "kernelspec": {
   "display_name": "Python 3",
   "language": "python",
   "name": "python3"
  },
  "language_info": {
   "codemirror_mode": {
    "name": "ipython",
    "version": 3
   },
   "file_extension": ".py",
   "mimetype": "text/x-python",
   "name": "python",
   "nbconvert_exporter": "python",
   "pygments_lexer": "ipython3",
   "version": "3.8.5"
  }
 },
 "nbformat": 4,
 "nbformat_minor": 4
}
