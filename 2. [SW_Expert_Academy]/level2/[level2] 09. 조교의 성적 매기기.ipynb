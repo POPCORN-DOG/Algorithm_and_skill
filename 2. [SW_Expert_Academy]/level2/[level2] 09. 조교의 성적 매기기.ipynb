{
 "cells": [
  {
   "cell_type": "code",
   "execution_count": null,
   "metadata": {},
   "outputs": [],
   "source": [
    "10 개의 평점을 총점이 높은 순서대로 부여하는데,\n",
    "각각의 평점은 같은 비율로 부여할 수 있다.\n",
    "예를 들어, N 명의 학생이 있을 경우 N/10 명의 학생들에게 동일한 평점을 부여할 수 있다.\n",
    "입력으로 각각의 학생들의 중간, 기말, 과제 점수가 주어지고,\n",
    "학점을 알고싶은 K 번째 학생의 번호가 주어졌을 때,\n",
    "K 번째 학생의 학점을 출력하는 프로그램을 작성하라."
   ]
  },
  {
   "cell_type": "code",
   "execution_count": null,
   "metadata": {},
   "outputs": [],
   "source": [
    "10\n",
    "10 2\n",
    "87 59 88\n",
    "99 94 78\n",
    "94 86 86\n",
    "99 100 99\n",
    "69 76 70\n",
    "76 89 96\n",
    "98 95 96\n",
    "74 69 60\n",
    "98 84 67\n",
    "85 84 91"
   ]
  },
  {
   "cell_type": "code",
   "execution_count": 124,
   "metadata": {},
   "outputs": [
    {
     "name": "stdout",
     "output_type": "stream",
     "text": [
      "10 2\n",
      "87 59 88\n",
      "99 94 78\n",
      "94 86 86\n",
      "99 100 99\n",
      "69 76 70\n",
      "76 89 96\n",
      "98 95 96\n",
      "74 69 60\n",
      "98 84 67\n",
      "85 84 91\n"
     ]
    },
    {
     "data": {
      "text/plain": [
       "'A-'"
      ]
     },
     "execution_count": 124,
     "metadata": {},
     "output_type": "execute_result"
    }
   ],
   "source": [
    "people, k = map(int,input().split())\n",
    "\n",
    "score = []\n",
    "grades = ['A+', 'A0', 'A-', 'B+', 'B0', 'B-', 'C+', 'C0', 'C-', 'D0']\n",
    "\n",
    "for i in range(people):\n",
    "    midterm_exam, final_exam, assignment = map(int,input().split())\n",
    "\n",
    "    score.append(int(midterm_exam*0.35 + final_exam*0.45 + assignment*0.20))\n",
    "    \n",
    "# 찾으려는 k번째 사람의 성적\n",
    "k_score = score[k-1] # 0, 1, 2...\n",
    "\n",
    " # k의 성적 순위(몇 번째인지) \n",
    "k_ranking = sorted(score)[::-1].index(k_score) # 0, 1, 2...\n",
    "    \n",
    "# peple의 명수에 따른 성적 나열\n",
    "t_agrades = [] \n",
    "for i in range(10):\n",
    "    t_agrades += ('{} '.format(grades[i]) * int(people/10) ).split()\n",
    "\n",
    "# k의 최종성적\n",
    "t_agrades[k_ranking]"
   ]
  },
  {
   "cell_type": "code",
   "execution_count": 139,
   "metadata": {},
   "outputs": [
    {
     "name": "stdout",
     "output_type": "stream",
     "text": [
      "['A+', 'A+', 'A+', 'A+', 'A0', 'A0', 'A0', 'A0', 'A-', 'A-', 'A-', 'A-', 'B+', 'B+', 'B+', 'B+', 'B0', 'B0', 'B0', 'B0', 'B-', 'B-', 'B-', 'B-', 'C+', 'C+', 'C+', 'C+', 'C0', 'C0', 'C0', 'C0', 'C-', 'C-', 'C-', 'C-', 'D0', 'D0', 'D0', 'D0']\n"
     ]
    }
   ],
   "source": [
    "people = 40\n",
    "t_agrades = []\n",
    "for i in range(10):\n",
    "    t_agrades += ('{} '.format(grades[i]) * int(people/10) ).split()\n",
    "print(t_agrades)"
   ]
  },
  {
   "cell_type": "code",
   "execution_count": 143,
   "metadata": {},
   "outputs": [
    {
     "data": {
      "text/plain": [
       "0"
      ]
     },
     "execution_count": 143,
     "metadata": {},
     "output_type": "execute_result"
    }
   ],
   "source": [
    "# 다른 풀이\n",
    "rank_of_ten = sorted(score)[::-1].index(k_score) // (people//10)  # 핵심 코드\n",
    "rank_of_ten"
   ]
  }
 ],
 "metadata": {
  "kernelspec": {
   "display_name": "Python 3",
   "language": "python",
   "name": "python3"
  },
  "language_info": {
   "codemirror_mode": {
    "name": "ipython",
    "version": 3
   },
   "file_extension": ".py",
   "mimetype": "text/x-python",
   "name": "python",
   "nbconvert_exporter": "python",
   "pygments_lexer": "ipython3",
   "version": "3.8.5"
  }
 },
 "nbformat": 4,
 "nbformat_minor": 4
}
