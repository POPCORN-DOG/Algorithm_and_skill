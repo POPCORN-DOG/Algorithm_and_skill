{
 "cells": [
  {
   "cell_type": "markdown",
   "metadata": {},
   "source": [
    "## input\n",
    "<pre>\n",
    "3       \n",
    "KOREAKOREAKOREAKOREAKOREAKOREA\n",
    "SAMSUNGSAMSUNGSAMSUNGSAMSUNGSA\n",
    "GALAXYGALAXYGALAXYGALAXYGALAXY\n",
    "</pre>\n",
    "\n",
    "## output\n",
    "<pre>\n",
    "#1 5\n",
    "#2 7\n",
    "#3 6\n",
    "</pre>"
   ]
  },
  {
   "cell_type": "code",
   "execution_count": 35,
   "metadata": {},
   "outputs": [
    {
     "name": "stdout",
     "output_type": "stream",
     "text": [
      "3\n",
      "KOREAKOREAKOREAKOREAKOREAKOREA\n",
      "#1 5\n",
      "SAMSUNGSAMSUNGSAMSUNGSAMSUNGSA\n",
      "#2 7\n",
      "GALAXYGALAXYGALAXYGALAXYGALAXY\n",
      "#3 6\n"
     ]
    }
   ],
   "source": [
    "T = int(input())\n",
    "\n",
    "for rep in range(T):\n",
    "    text = input()\n",
    "    i = 0\n",
    "    while True:\n",
    "        i += 1\n",
    "        if text[0:i] == text[i:i*2]:\n",
    "            #print(text[0:i],text[i:i*2])\n",
    "            print('#{} {}'.format(rep+1,i))\n",
    "            break"
   ]
  },
  {
   "cell_type": "code",
   "execution_count": 33,
   "metadata": {},
   "outputs": [
    {
     "name": "stdout",
     "output_type": "stream",
     "text": [
      "KOREAKOREAKOREAKOREAKOREAKOREA\n",
      "KOREA\n",
      "KOREA\n"
     ]
    }
   ],
   "source": [
    "text = input()\n",
    "print(text[0:5])\n",
    "print(text[5:10])"
   ]
  }
 ],
 "metadata": {
  "kernelspec": {
   "display_name": "Python 3",
   "language": "python",
   "name": "python3"
  },
  "language_info": {
   "codemirror_mode": {
    "name": "ipython",
    "version": 3
   },
   "file_extension": ".py",
   "mimetype": "text/x-python",
   "name": "python",
   "nbconvert_exporter": "python",
   "pygments_lexer": "ipython3",
   "version": "3.8.5"
  }
 },
 "nbformat": 4,
 "nbformat_minor": 4
}
