{
 "cells": [
  {
   "cell_type": "markdown",
   "metadata": {},
   "source": [
    "<pre>\n",
    "N X N 크기의 단어 퍼즐을 만들려고 한다. 입력으로 단어 퍼즐의 모양이 주어진다.\n",
    "\n",
    "주어진 퍼즐 모양에서 특정 길이 K를 갖는 단어가 들어갈 수 있는 자리의 수를 출력하는 프로그램을 작성하라\n",
    "\n",
    "N = 5, K = 3 이고, 퍼즐의 모양이 아래 그림과 같이 주어졌을 때\n",
    "\n",
    "길이가 3 인 단어가 들어갈 수 있는 자리는 2 곳(가로 1번, 가로 4번)이 된다.\n",
    "\n",
    "테스트 케이스의 첫 번째 줄에는 단어 퍼즐의 가로, 세로 길이 N 과, 단어의 길이 K 가 주어진다.\n",
    "\n",
    "테스트 케이스의 두 번째 줄부터 퍼즐의 모양이 2차원 정보로 주어진다.\n",
    "\n",
    "퍼즐의 각 셀 중, 흰색 부분은 1, 검은색 부분은 0 으로 주어진다.\n",
    "</pre>"
   ]
  },
  {
   "cell_type": "code",
   "execution_count": 158,
   "metadata": {},
   "outputs": [
    {
     "name": "stdout",
     "output_type": "stream",
     "text": [
      "5 3\n",
      "1 0 0 1 0\n",
      "1 1 0 1 1\n",
      "1 0 1 1 1\n",
      "0 1 1 0 1\n",
      "0 1 1 1 0 \n"
     ]
    }
   ],
   "source": [
    "N, K = list(map(int,input().split()))\n",
    "\n",
    "puzzle = [ list(map(int,input().split())) for _ in range(N)]"
   ]
  },
  {
   "cell_type": "code",
   "execution_count": 156,
   "metadata": {
    "scrolled": true
   },
   "outputs": [],
   "source": [
    "# 1행 부터 N행까지 [1]*K개의 낱말 글자를 딱 맞게 맞춰라\n",
    "def puzzle_result(data):\n",
    "    b = 0 # k개의 상자 갯수\n",
    "    for j in range(N): # 1행부터 n행까지의 세로줄 전체\n",
    "\n",
    "        a = [] \n",
    "        # 1행부터 N행까지 [i:i+K] 즉, [1]*K개의 상자와 맞는지 대조하여 a에 저장.\n",
    "        # 찾으려는 [1]*K상자와 맞으면 1 틀리면 0 \n",
    "        for i in range(N-K+1): # 0에서부터 N-K+1까지\n",
    "            if data[j][i:i+K] == [1]*K:\n",
    "                a.append(1)\n",
    "            else:\n",
    "                a.append(0)\n",
    "\n",
    "        bb = []\n",
    "        # [1]*K개의 상자와 맞춰봤으면 이번에는 [1,1] 이렇게 정답이 연속되는 LIST INDEX\n",
    "        # 즉, 111을 찾는데 1111 이라던가 중복되는 부분을 찾는다.\n",
    "        # 111 하나만 있으려면 정답도 1 하나만 있어야하기 때문이다.\n",
    "        # 만약 1111 이렇게 1이 하나 더 있거나 11111 처럼 1이 두개 더 있다면\n",
    "        # 분명 정답의 1이 연속해서 붙어있을 것이기 때문이다.\n",
    "        for i in range(len(a)):\n",
    "            #print(a[i:i+2] == [1,1])\n",
    "            if a[i:i+2] == [1,1]:\n",
    "                bb.append(i)\n",
    "\n",
    "        # print(bb)\n",
    "        # 정답(1)이 연속되는 부분의 LIST 위치를 [0,0]으로 고쳐써준다.\n",
    "        for i in bb:\n",
    "            a[i:i+2] = [0,0]\n",
    "        #print(a)\n",
    "        # 그리고 확실하게 정답의 갯수를 더해준다. \n",
    "        b += sum(a)\n",
    "    return (b)"
   ]
  },
  {
   "cell_type": "code",
   "execution_count": 159,
   "metadata": {},
   "outputs": [
    {
     "name": "stdout",
     "output_type": "stream",
     "text": [
      "2\n",
      "4\n"
     ]
    }
   ],
   "source": [
    "import numpy as np\n",
    "print(puzzle_result(puzzle))\n",
    "print(puzzle_result(np.transpose(puzzle).tolist()))"
   ]
  },
  {
   "cell_type": "code",
   "execution_count": 148,
   "metadata": {},
   "outputs": [
    {
     "name": "stdout",
     "output_type": "stream",
     "text": [
      "--\n",
      "[0, 0, 0, 0, 0, 1]\n",
      "False\n",
      "False\n",
      "False\n",
      "False\n",
      "False\n",
      "False\n",
      "[]\n",
      "[0, 0, 0, 0, 0, 1]\n",
      "--\n",
      "[0, 0, 0, 0, 0, 0]\n",
      "False\n",
      "False\n",
      "False\n",
      "False\n",
      "False\n",
      "False\n",
      "[]\n",
      "[0, 0, 0, 0, 0, 0]\n",
      "--\n",
      "[1, 0, 0, 0, 0, 0]\n",
      "False\n",
      "False\n",
      "False\n",
      "False\n",
      "False\n",
      "False\n",
      "[]\n",
      "[1, 0, 0, 0, 0, 0]\n",
      "--\n",
      "[0, 0, 0, 0, 0, 1]\n",
      "False\n",
      "False\n",
      "False\n",
      "False\n",
      "False\n",
      "False\n",
      "[]\n",
      "[0, 0, 0, 0, 0, 1]\n",
      "--\n",
      "[0, 0, 0, 0, 0, 0]\n",
      "False\n",
      "False\n",
      "False\n",
      "False\n",
      "False\n",
      "False\n",
      "[]\n",
      "[0, 0, 0, 0, 0, 0]\n",
      "--\n",
      "[1, 1, 1, 1, 0, 0]\n",
      "True\n",
      "True\n",
      "True\n",
      "False\n",
      "False\n",
      "False\n",
      "[0, 1, 2]\n",
      "[0, 0, 0, 0, 0, 0]\n",
      "--\n",
      "[0, 0, 0, 0, 0, 0]\n",
      "False\n",
      "False\n",
      "False\n",
      "False\n",
      "False\n",
      "False\n",
      "[]\n",
      "[0, 0, 0, 0, 0, 0]\n",
      "--\n",
      "[1, 0, 0, 0, 1, 1]\n",
      "False\n",
      "False\n",
      "False\n",
      "False\n",
      "True\n",
      "False\n",
      "[4]\n",
      "[1, 0, 0, 0, 0, 0]\n"
     ]
    },
    {
     "data": {
      "text/plain": [
       "4"
      ]
     },
     "execution_count": 148,
     "metadata": {},
     "output_type": "execute_result"
    }
   ],
   "source": [
    "b = 0\n",
    "for j in range(N): # 세로줄 전체\n",
    "    print('--')\n",
    "    a = []\n",
    "    for i in range(N-K+1): # 가로 한개씩\n",
    "        if puzzle[j][i:i+K] == [1]*K:\n",
    "            a.append(1)\n",
    "        else:\n",
    "            a.append(0)\n",
    "\n",
    "    print(a)\n",
    "\n",
    "    bb = []\n",
    "    for i in range(len(a)):\n",
    "        print(a[i:i+2] == [1,1])\n",
    "        if a[i:i+2] == [1,1]:\n",
    "            bb.append(i)\n",
    "\n",
    "    print(bb)        \n",
    "    for i in bb:\n",
    "        a[i:i+2] = [0,0]\n",
    "    print(a)\n",
    "    b += sum(a)\n",
    "b"
   ]
  }
 ],
 "metadata": {
  "kernelspec": {
   "display_name": "Python 3",
   "language": "python",
   "name": "python3"
  },
  "language_info": {
   "codemirror_mode": {
    "name": "ipython",
    "version": 3
   },
   "file_extension": ".py",
   "mimetype": "text/x-python",
   "name": "python",
   "nbconvert_exporter": "python",
   "pygments_lexer": "ipython3",
   "version": "3.8.5"
  }
 },
 "nbformat": 4,
 "nbformat_minor": 4
}
