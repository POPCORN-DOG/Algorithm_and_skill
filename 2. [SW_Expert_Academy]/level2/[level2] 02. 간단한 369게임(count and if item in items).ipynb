{
 "cells": [
  {
   "cell_type": "markdown",
   "metadata": {},
   "source": [
    "List(리스트)에 많은 데이터가 들어 있는 경우 특정 값이 List 안에 존재하는지 확인이 필요한 경우가 있다."
   ]
  },
  {
   "cell_type": "markdown",
   "metadata": {},
   "source": [
    "# 1.count를 활용한 풀이"
   ]
  },
  {
   "cell_type": "code",
   "execution_count": 105,
   "metadata": {},
   "outputs": [
    {
     "name": "stdout",
     "output_type": "stream",
     "text": [
      "33\n",
      "1 2 -- 4 5 -- 7 8 -- 10 11 12 -- 14 15 -- 17 18 -- 20 21 22 -- 24 25 -- 27 28 -- -- -- -- -- "
     ]
    }
   ],
   "source": [
    "T = int(input())\n",
    "for i in range(1,T+1):\n",
    "    num = str(i)\n",
    "    clap_count = num.count('3') + num.count('6') + num.count('9')\n",
    "    \n",
    "    if clap_count > 0:\n",
    "        i = '-'*clap_count\n",
    "        \n",
    "    print(i, end=' ')"
   ]
  },
  {
   "cell_type": "markdown",
   "metadata": {},
   "source": [
    "# 2. str의 성질을 이용한 list search 풀이"
   ]
  },
  {
   "cell_type": "code",
   "execution_count": 73,
   "metadata": {},
   "outputs": [
    {
     "name": "stdout",
     "output_type": "stream",
     "text": [
      "ok\n"
     ]
    }
   ],
   "source": [
    "items = ['1','2','3','4']\n",
    "item = '1'\n",
    "if item in items:\n",
    "    print ('ok')\n",
    "else:\n",
    "    print ('no')"
   ]
  },
  {
   "cell_type": "code",
   "execution_count": 68,
   "metadata": {},
   "outputs": [
    {
     "name": "stdout",
     "output_type": "stream",
     "text": [
      "39\n",
      "1 2 - 4 5 - 7 8 - 10 11 12 - 14 15 - 17 18 - 20 21 22 - 24 25 - 27 28 - - - - -- - - -- - - -- "
     ]
    }
   ],
   "source": [
    "T = int(input())\n",
    "for i in range(1, T+1):\n",
    "    s = sum(1 for x in str(i) if x in ['3','6','9'])\n",
    "    if s==0:\n",
    "        print( i, end=' ' )\n",
    "    else:\n",
    "        print( '-'*s, end=' ' )"
   ]
  }
 ],
 "metadata": {
  "kernelspec": {
   "display_name": "Python 3",
   "language": "python",
   "name": "python3"
  },
  "language_info": {
   "codemirror_mode": {
    "name": "ipython",
    "version": 3
   },
   "file_extension": ".py",
   "mimetype": "text/x-python",
   "name": "python",
   "nbconvert_exporter": "python",
   "pygments_lexer": "ipython3",
   "version": "3.8.5"
  }
 },
 "nbformat": 4,
 "nbformat_minor": 4
}
