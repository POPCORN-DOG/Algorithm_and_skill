{
 "cells": [
  {
   "cell_type": "code",
   "execution_count": 20,
   "metadata": {},
   "outputs": [],
   "source": [
    "# https://junpyopark.github.io/interactive_jupyter/ (widget)\n",
    "# https://codetorial.net/numpy/random.html (난수)"
   ]
  },
  {
   "cell_type": "code",
   "execution_count": 2,
   "metadata": {},
   "outputs": [],
   "source": [
    "import pandas as pd\n",
    "import numpy as np"
   ]
  },
  {
   "cell_type": "markdown",
   "metadata": {},
   "source": [
    "### np.random 함수\n",
    "- `np.random.rand(2,4)` 데이터 프레임으로 변환 가능한 array 2행 4열\n",
    "- `np.random.randint(2,4,size=5)` [2,4)범위에서 다섯개의 임의의 정수 생성\n",
    "<br><br>\n",
    "- `np.random.randn(2,4)` 표준정규분포로부터 샘플링된 난수생성 \n",
    "- σ * np.random.randn(…) + μ 와 같은 형태로 사용가능(sigma표준편차, mu평균 = 1.5, 2.0)\n",
    "- 해석: 평균과 표준편차가 각각 '2.0', '1.5'인 정규분포의 난수 n개\n",
    "<br><br>\n",
    "- `np.random.standard_normal(3)` 표준정규분포로부터 샘플링된 난수\n",
    "- 혹은 np.random.standard_normal((3,4)) (randn과 차이는 튜플을 인자로 받는다는 것)\n",
    "<br><br>\n",
    "- `np.random.normal(1.5, 2.0, (2,3))` 정규분포 N(1.5,2.0^2)로부터 샘플링된 array(2,3)"
   ]
  },
  {
   "cell_type": "code",
   "execution_count": 63,
   "metadata": {},
   "outputs": [
    {
     "data": {
      "text/html": [
       "<div>\n",
       "<style scoped>\n",
       "    .dataframe tbody tr th:only-of-type {\n",
       "        vertical-align: middle;\n",
       "    }\n",
       "\n",
       "    .dataframe tbody tr th {\n",
       "        vertical-align: top;\n",
       "    }\n",
       "\n",
       "    .dataframe thead th {\n",
       "        text-align: right;\n",
       "    }\n",
       "</style>\n",
       "<table border=\"1\" class=\"dataframe\">\n",
       "  <thead>\n",
       "    <tr style=\"text-align: right;\">\n",
       "      <th></th>\n",
       "      <th>Feature1</th>\n",
       "      <th>Feature2</th>\n",
       "      <th>Feature3</th>\n",
       "    </tr>\n",
       "  </thead>\n",
       "  <tbody>\n",
       "    <tr>\n",
       "      <th>0</th>\n",
       "      <td>5.428163</td>\n",
       "      <td>2.641670</td>\n",
       "      <td>9.744637</td>\n",
       "    </tr>\n",
       "    <tr>\n",
       "      <th>1</th>\n",
       "      <td>9.198467</td>\n",
       "      <td>7.876605</td>\n",
       "      <td>1.073635</td>\n",
       "    </tr>\n",
       "    <tr>\n",
       "      <th>2</th>\n",
       "      <td>0.527712</td>\n",
       "      <td>7.620288</td>\n",
       "      <td>0.388324</td>\n",
       "    </tr>\n",
       "    <tr>\n",
       "      <th>3</th>\n",
       "      <td>7.291514</td>\n",
       "      <td>7.156875</td>\n",
       "      <td>2.253470</td>\n",
       "    </tr>\n",
       "    <tr>\n",
       "      <th>4</th>\n",
       "      <td>4.271288</td>\n",
       "      <td>2.149424</td>\n",
       "      <td>4.050850</td>\n",
       "    </tr>\n",
       "  </tbody>\n",
       "</table>\n",
       "</div>"
      ],
      "text/plain": [
       "   Feature1  Feature2  Feature3\n",
       "0  5.428163  2.641670  9.744637\n",
       "1  9.198467  7.876605  1.073635\n",
       "2  0.527712  7.620288  0.388324\n",
       "3  7.291514  7.156875  2.253470\n",
       "4  4.271288  2.149424  4.050850"
      ]
     },
     "execution_count": 63,
     "metadata": {},
     "output_type": "execute_result"
    }
   ],
   "source": [
    "# np.random.rand\n",
    "df = pd.DataFrame(np.random.rand(100,3)*10)\n",
    "df.columns = ['Feature1','Feature2','Feature3']\n",
    "df.head()"
   ]
  },
  {
   "cell_type": "markdown",
   "metadata": {},
   "source": [
    "# 1. 데이터 필터링"
   ]
  },
  {
   "cell_type": "code",
   "execution_count": 31,
   "metadata": {},
   "outputs": [],
   "source": [
    "import ipywidgets as widgets\n",
    "from ipywidgets import interact, interact_manual"
   ]
  },
  {
   "cell_type": "code",
   "execution_count": 37,
   "metadata": {
    "scrolled": false
   },
   "outputs": [
    {
     "data": {
      "application/vnd.jupyter.widget-view+json": {
       "model_id": "0af44df41edf4224ac371985f6f29ac3",
       "version_major": 2,
       "version_minor": 0
      },
      "text/plain": [
       "interactive(children=(Dropdown(description='column', options=('Feature1', 'Feature2', 'Feature3'), value='Feat…"
      ]
     },
     "metadata": {},
     "output_type": "display_data"
    }
   ],
   "source": [
    "@interact\n",
    "def show_data_more_than(column=['Feature1','Feature2','Feature3'],\n",
    "                       x=(0,10,1)): # 스크롤바의 범위 (최소,최대,간격)\n",
    "    return df.loc[df[column]>x]"
   ]
  },
  {
   "cell_type": "markdown",
   "metadata": {},
   "source": [
    "# 2. 위젯을 활용한 시각화"
   ]
  },
  {
   "cell_type": "code",
   "execution_count": 69,
   "metadata": {},
   "outputs": [
    {
     "data": {
      "text/html": [
       "        <script type=\"text/javascript\">\n",
       "        window.PlotlyConfig = {MathJaxConfig: 'local'};\n",
       "        if (window.MathJax) {MathJax.Hub.Config({SVG: {font: \"STIX-Web\"}});}\n",
       "        if (typeof require !== 'undefined') {\n",
       "        require.undef(\"plotly\");\n",
       "        requirejs.config({\n",
       "            paths: {\n",
       "                'plotly': ['https://cdn.plot.ly/plotly-latest.min']\n",
       "            }\n",
       "        });\n",
       "        require(['plotly'], function(Plotly) {\n",
       "            window._Plotly = Plotly;\n",
       "        });\n",
       "        }\n",
       "        </script>\n",
       "        "
      ]
     },
     "metadata": {},
     "output_type": "display_data"
    },
    {
     "data": {
      "application/vnd.jupyter.widget-view+json": {
       "model_id": "05d1bb46f9554c39af2d60af86b58f1b",
       "version_major": 2,
       "version_minor": 0
      },
      "text/plain": [
       "interactive(children=(Dropdown(description='x', options=('Feature1', 'Feature2', 'Feature3'), value='Feature1'…"
      ]
     },
     "metadata": {},
     "output_type": "display_data"
    }
   ],
   "source": [
    "import cufflinks as cf\n",
    "cf.go_offline(connected=True)\n",
    "\n",
    "@interact\n",
    "def scatter_plot(x=list(df.select_dtypes('number').columns), \n",
    "                 y=list(df.select_dtypes('number').columns),\n",
    "                 theme=list(cf.themes.THEMES.keys()), \n",
    "                 colorscale=list(cf.colors._scales_names.keys())):\n",
    "    \n",
    "    \n",
    "    if x.title() == y.title():\n",
    "        print('Can Not Use Same Value')\n",
    "    else:\n",
    "        title=f'{y.title()} vs {x.title()}'\n",
    "        df.iplot(kind='scatter', x=x, y=y, mode='markers', \n",
    "                 # 축 이름\n",
    "                 xTitle=x.title(), yTitle=y.title(), \n",
    "                 #text='title',\n",
    "                 title=f'{y.title()} vs {x.title()}',\n",
    "                 theme=theme, \n",
    "                 colorscale=colorscale)"
   ]
  },
  {
   "cell_type": "markdown",
   "metadata": {},
   "source": [
    "# 3. DatePicker 활용하기\n",
    "- 시계열 데이터를 활"
   ]
  },
  {
   "cell_type": "code",
   "execution_count": null,
   "metadata": {},
   "outputs": [],
   "source": []
  }
 ],
 "metadata": {
  "kernelspec": {
   "display_name": "Python 3",
   "language": "python",
   "name": "python3"
  },
  "language_info": {
   "codemirror_mode": {
    "name": "ipython",
    "version": 3
   },
   "file_extension": ".py",
   "mimetype": "text/x-python",
   "name": "python",
   "nbconvert_exporter": "python",
   "pygments_lexer": "ipython3",
   "version": "3.8.5"
  }
 },
 "nbformat": 4,
 "nbformat_minor": 4
}
