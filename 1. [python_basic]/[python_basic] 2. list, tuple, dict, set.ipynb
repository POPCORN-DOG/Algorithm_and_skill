{
 "cells": [
  {
   "cell_type": "markdown",
   "metadata": {},
   "source": [
    "# 1. list\n",
    "1. 순서가 있고 수정이 가능하다.\n",
    "2. 순회가 가능하다. (ex_for문)\n",
    "3. 값의 중복을 허락한다.\n",
    "- `append`: 추가\n",
    "- `clear`: 삭제\n",
    "- `extend`: 추가(여러개)\n",
    "- `index`: 원하는 값 찾을 때(중복값일 때는 첫번 째 값)\n",
    "- `insert`: 원하는 자리에 원하는 값 추가하여 뒤로 밀어버림<br><br>\n",
    "- `pop` : 맨 마지막의 값을 없앤다. (또한 pop안에 index를 넣어 지울 수 있다.)\n",
    "- 잡은물고기.pop(0) :0번째 삭제\n",
    "- del 잡은물고기[0] : <br><br>\n",
    "- `remove`: 처음 값을 지운다.\n",
    "- `reverse`: 역출력\n",
    "- `sort`: 정렬"
   ]
  },
  {
   "cell_type": "code",
   "execution_count": 2,
   "metadata": {},
   "outputs": [
    {
     "name": "stdout",
     "output_type": "stream",
     "text": [
      "<class 'list'>\n",
      "['__add__', '__class__', '__contains__', '__delattr__', '__delitem__', '__dir__', '__doc__', '__eq__', '__format__', '__ge__', '__getattribute__', '__getitem__', '__gt__', '__hash__', '__iadd__', '__imul__', '__init__', '__init_subclass__', '__iter__', '__le__', '__len__', '__lt__', '__mul__', '__ne__', '__new__', '__reduce__', '__reduce_ex__', '__repr__', '__reversed__', '__rmul__', '__setattr__', '__setitem__', '__sizeof__', '__str__', '__subclasshook__', 'append', 'clear', 'copy', 'count', 'extend', 'index', 'insert', 'pop', 'remove', 'reverse', 'sort']\n"
     ]
    }
   ],
   "source": [
    "훈장 = []\n",
    "기술 = ['고기잡이', '고기팔기']\n",
    "print(type(기술))\n",
    "print(dir(기술))"
   ]
  },
  {
   "cell_type": "code",
   "execution_count": 49,
   "metadata": {},
   "outputs": [
    {
     "name": "stdout",
     "output_type": "stream",
     "text": [
      "광어\n",
      "['광어', '고등어', '오징어']\n",
      "['광어', '고등어', '오징어', '오징어', '광어', '광어', '고등어']\n",
      "['광어', '오징어', '광어', '고등어']\n",
      "2\n"
     ]
    },
    {
     "data": {
      "text/plain": [
       "['광어', '고등어', '오징어', '오징어', '광어', '광어', '고등어', '고등어', '백상아리', '백상아리']"
      ]
     },
     "execution_count": 49,
     "metadata": {},
     "output_type": "execute_result"
    }
   ],
   "source": [
    "잡은물고기 = ['광어', '고등어', '오징어', '오징어', '광어',\n",
    "             '광어', '고등어', '고등어', '백상아리', '금붕어']\n",
    "\n",
    "print(잡은물고기[0])\n",
    "print(잡은물고기[0:3])\n",
    "print(잡은물고기[0:7])\n",
    "print(잡은물고기[0:7:2])\n",
    "잡은물고기[-1] = '백상아리'\n",
    "print(잡은물고기.count('백상아리'))\n",
    "잡은물고기"
   ]
  },
  {
   "cell_type": "code",
   "execution_count": 50,
   "metadata": {},
   "outputs": [
    {
     "name": "stdout",
     "output_type": "stream",
     "text": [
      "3\n"
     ]
    },
    {
     "data": {
      "text/plain": [
       "['광어', '고등어', '오징어', '오징어', '광어', '광어', '고등어', '고등어', '백상아리', '백상아리', '백상아리']"
      ]
     },
     "execution_count": 50,
     "metadata": {},
     "output_type": "execute_result"
    }
   ],
   "source": [
    "잡은물고기.append('백상아리')\n",
    "print(잡은물고기.count('백상아리'))\n",
    "잡은물고기"
   ]
  },
  {
   "cell_type": "code",
   "execution_count": 51,
   "metadata": {},
   "outputs": [
    {
     "name": "stdout",
     "output_type": "stream",
     "text": [
      "['광어', '고등어', '오징어', '백상아리', '오징어', '광어', '광어', '고등어', '고등어', '백상아리', '백상아리', '백상아리']\n",
      "['광어', '고등어', '오징어', '백상아리', '오징어', '광어', '광어', '고등어', '고등어', '백상아리', '백상아리']\n"
     ]
    }
   ],
   "source": [
    "# 첫번째 만나는 백상아리 값\n",
    "잡은물고기.index('백상아리')\n",
    "잡은물고기.insert(3,'백상아리')\n",
    "print(잡은물고기)\n",
    "잡은물고기.pop()\n",
    "print(잡은물고기)"
   ]
  },
  {
   "cell_type": "code",
   "execution_count": 52,
   "metadata": {},
   "outputs": [
    {
     "data": {
      "text/plain": [
       "['광어', '고등어', '오징어', '오징어', '광어', '광어', '고등어', '고등어', '백상아리', '백상아리']"
      ]
     },
     "execution_count": 52,
     "metadata": {},
     "output_type": "execute_result"
    }
   ],
   "source": [
    "잡은물고기.remove('백상아리')\n",
    "#잡은물고기.reverse\n",
    "잡은물고기"
   ]
  },
  {
   "cell_type": "code",
   "execution_count": 63,
   "metadata": {},
   "outputs": [
    {
     "name": "stdout",
     "output_type": "stream",
     "text": [
      "['백상아리', '백상아리', '고등어', '고등어', '광어', '광어', '오징어', '오징어', '고등어', '광어']\n"
     ]
    },
    {
     "data": {
      "text/plain": [
       "['백상아리', '백상아리', '고등어', '고등어', '광어', '광어', '오징어', '오징어', '고등어', '광어']"
      ]
     },
     "execution_count": 63,
     "metadata": {},
     "output_type": "execute_result"
    }
   ],
   "source": [
    "print(잡은물고기[::-1])\n",
    "잡은물고기.reverse()\n",
    "잡은물고기"
   ]
  },
  {
   "cell_type": "code",
   "execution_count": 65,
   "metadata": {},
   "outputs": [
    {
     "data": {
      "text/plain": [
       "['고등어', '고등어', '고등어', '광어', '광어', '광어', '백상아리', '백상아리', '오징어', '오징어']"
      ]
     },
     "execution_count": 65,
     "metadata": {},
     "output_type": "execute_result"
    }
   ],
   "source": [
    "잡은물고기.sort()\n",
    "잡은물고기"
   ]
  },
  {
   "cell_type": "markdown",
   "metadata": {},
   "source": [
    "# 2. tuple\n",
    "1. 순서가 있고, 값의 변화를 줄 수 없다."
   ]
  },
  {
   "cell_type": "code",
   "execution_count": 67,
   "metadata": {},
   "outputs": [
    {
     "name": "stdout",
     "output_type": "stream",
     "text": [
      "<class 'tuple'>\n",
      "['__add__', '__class__', '__contains__', '__delattr__', '__dir__', '__doc__', '__eq__', '__format__', '__ge__', '__getattribute__', '__getitem__', '__getnewargs__', '__gt__', '__hash__', '__init__', '__init_subclass__', '__iter__', '__le__', '__len__', '__lt__', '__mul__', '__ne__', '__new__', '__reduce__', '__reduce_ex__', '__repr__', '__rmul__', '__setattr__', '__sizeof__', '__str__', '__subclasshook__', 'count', 'index']\n",
      "('고등어', '고등어', '고등어', '광어', '광어', '광어', '백상아리', '백상아리', '오징어', '오징어')\n"
     ]
    }
   ],
   "source": [
    "잡은물고기_튜플 = ('고등어', '고등어', '고등어', '광어', '광어', \n",
    "                '광어', '백상아리', '백상아리', '오징어', '오징어')\n",
    "print(type(잡은물고기_튜플))\n",
    "print(dir(잡은물고기_튜플))\n",
    "print(잡은물고기_튜플)"
   ]
  },
  {
   "cell_type": "markdown",
   "metadata": {},
   "source": [
    "# 3. dictionary\n",
    "1. 순서가 없다.\n",
    "2. key값으로 호출 키값의 중복을 허락하지 않는다.\n",
    "3. 값의 중복은 가능하다.\n",
    "4. 순회는 가능하다.(반복문)"
   ]
  },
  {
   "cell_type": "markdown",
   "metadata": {},
   "source": [
    "### list -> dict (count) 방법 1"
   ]
  },
  {
   "cell_type": "code",
   "execution_count": 146,
   "metadata": {},
   "outputs": [
    {
     "name": "stdout",
     "output_type": "stream",
     "text": [
      "['고등어', '고등어', '고등어', '광어', '광어', '광어', '백상아리', '백상아리', '오징어', '오징어']\n",
      "{'고등어': 3, '광어': 3, '백상아리': 2, '오징어': 2}\n"
     ]
    }
   ],
   "source": [
    "print(잡은물고기)\n",
    "잡은물고기_딕셔너리 = {x:잡은물고기.count(x) for x in 잡은물고기}\n",
    "print(잡은물고기_딕셔너리)"
   ]
  },
  {
   "cell_type": "markdown",
   "metadata": {},
   "source": [
    "### list -> dict (count) 방법 2"
   ]
  },
  {
   "cell_type": "code",
   "execution_count": 132,
   "metadata": {},
   "outputs": [
    {
     "data": {
      "text/plain": [
       "{'고등어': 1}"
      ]
     },
     "execution_count": 132,
     "metadata": {},
     "output_type": "execute_result"
    }
   ],
   "source": [
    "dd = {}\n",
    "dd['고등어'] = 1\n",
    "dd"
   ]
  },
  {
   "cell_type": "code",
   "execution_count": 126,
   "metadata": {},
   "outputs": [
    {
     "name": "stdout",
     "output_type": "stream",
     "text": [
      "['고등어', '고등어', '고등어', '광어', '광어', '광어', '백상아리', '백상아리', '오징어', '오징어']\n",
      "except: 고등어\n",
      "try: 고등어\n",
      "try: 고등어\n",
      "except: 광어\n",
      "try: 광어\n",
      "try: 광어\n",
      "except: 백상아리\n",
      "try: 백상아리\n",
      "except: 오징어\n",
      "try: 오징어\n",
      "{'고등어': 3, '광어': 3, '백상아리': 2, '오징어': 2}\n"
     ]
    }
   ],
   "source": [
    "print(잡은물고기)\n",
    "count = {}\n",
    "for i in 잡은물고기:\n",
    "    try: \n",
    "        count[i] += 1\n",
    "        print('try:',i)\n",
    "    except: \n",
    "        count[i] = 1\n",
    "        print('except:',i)\n",
    "print(count)"
   ]
  },
  {
   "cell_type": "code",
   "execution_count": 147,
   "metadata": {},
   "outputs": [
    {
     "name": "stdout",
     "output_type": "stream",
     "text": [
      "<class 'dict'>\n",
      "['__class__', '__contains__', '__delattr__', '__delitem__', '__dir__', '__doc__', '__eq__', '__format__', '__ge__', '__getattribute__', '__getitem__', '__gt__', '__hash__', '__init__', '__init_subclass__', '__iter__', '__le__', '__len__', '__lt__', '__ne__', '__new__', '__reduce__', '__reduce_ex__', '__repr__', '__reversed__', '__setattr__', '__setitem__', '__sizeof__', '__str__', '__subclasshook__', 'clear', 'copy', 'fromkeys', 'get', 'items', 'keys', 'pop', 'popitem', 'setdefault', 'update', 'values']\n"
     ]
    }
   ],
   "source": [
    "print(type(잡은물고기_딕셔너리))\n",
    "print(dir(잡은물고기_딕셔너리))"
   ]
  },
  {
   "cell_type": "code",
   "execution_count": null,
   "metadata": {},
   "outputs": [],
   "source": []
  }
 ],
 "metadata": {
  "kernelspec": {
   "display_name": "Python 3",
   "language": "python",
   "name": "python3"
  },
  "language_info": {
   "codemirror_mode": {
    "name": "ipython",
    "version": 3
   },
   "file_extension": ".py",
   "mimetype": "text/x-python",
   "name": "python",
   "nbconvert_exporter": "python",
   "pygments_lexer": "ipython3",
   "version": "3.8.5"
  }
 },
 "nbformat": 4,
 "nbformat_minor": 4
}
