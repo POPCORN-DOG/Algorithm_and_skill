{
 "cells": [
  {
   "cell_type": "markdown",
   "metadata": {},
   "source": [
    "# 1. 변수와 type<br>\n",
    "\n",
    "### 변수의 규칙\n",
    "\n",
    "1. 변수 중간에 띄어쓰기를 하지 않는다. 띄어쓰기 명시는 언더 스코어(`_`)\n",
    "2. 첫 글자는 숫자나 특수문자 쓰지 않는다. 언더스코어 제외\n",
    "3. 첫 글자는 대문자로 쓰지 않는다. (Class가 대문자로 쓰기 때문)\n",
    "4. 예약어를 사용하지 않는다. 즉, `print`와 같은 함수명이나 구문은 변수명으로 사용하지 않는다.\n",
    "5. 변수명은 대소문자를 가린다. `Apple`과 `apple`은 다른 변수가 된다."
   ]
  },
  {
   "cell_type": "code",
   "execution_count": 21,
   "metadata": {},
   "outputs": [
    {
     "data": {
      "text/plain": [
       "'\\n 라이캣의 개인정보입니다.\\n 성장함에 따라 해당 값이 변합니다.\\n \\n 주의) 마음대로 성장시키지 마세요!\\n'"
      ]
     },
     "execution_count": 21,
     "metadata": {},
     "output_type": "execute_result"
    }
   ],
   "source": [
    "# 라이캣의 개인정보 입력하기\n",
    "\n",
    "이름 = '캣'\n",
    "설명 = '위니브 월드 외각에 살고 있는 생선가게 주인 캣(cat)'\n",
    "나이 = 10\n",
    "오늘_잡은_물고기 = '10'\n",
    "키 = '45cm'\n",
    "몸무게 = 1.2\n",
    "육식 = True\n",
    "초식 = True\n",
    "돈 = 1000\n",
    "훈장 = []\n",
    "기술 = ['고기잡이', '고기팔기']\n",
    "\n",
    "'''\n",
    " 라이캣의 개인정보입니다.\n",
    " 성장함에 따라 해당 값이 변합니다.\n",
    " \n",
    " 주의) 마음대로 성장시키지 마세요!\n",
    "'''"
   ]
  },
  {
   "cell_type": "code",
   "execution_count": 11,
   "metadata": {},
   "outputs": [
    {
     "name": "stdout",
     "output_type": "stream",
     "text": [
      "캣\n",
      "12\n"
     ]
    }
   ],
   "source": [
    "# 할당 연산\n",
    "나이 = 11\n",
    "나이 = 나이 + 1\n",
    "print(이름)\n",
    "print(나이)"
   ]
  },
  {
   "cell_type": "code",
   "execution_count": 16,
   "metadata": {},
   "outputs": [
    {
     "name": "stdout",
     "output_type": "stream",
     "text": [
      "<class 'str'>\n"
     ]
    },
    {
     "data": {
      "text/plain": [
       "11"
      ]
     },
     "execution_count": 16,
     "metadata": {},
     "output_type": "execute_result"
    }
   ],
   "source": [
    "# type을 잘 파악하자.\n",
    "# str인 오늘_잡은_물고기를 int로 바꿔주자.\n",
    "print(type(오늘_잡은_물고기))\n",
    "int(오늘_잡은_물고기) + 1"
   ]
  },
  {
   "cell_type": "code",
   "execution_count": 22,
   "metadata": {},
   "outputs": [
    {
     "name": "stdout",
     "output_type": "stream",
     "text": [
      "<class 'str'>\n",
      "<class 'int'>\n",
      "<class 'str'>\n",
      "<class 'float'>\n",
      "<class 'bool'>\n",
      "<class 'list'>\n"
     ]
    }
   ],
   "source": [
    "print(type(이름))\n",
    "print(type(나이))\n",
    "print(type(오늘_잡은_물고기))\n",
    "print(type(몸무게))\n",
    "print(type(육식))\n",
    "print(type(기술))"
   ]
  },
  {
   "cell_type": "markdown",
   "metadata": {},
   "source": [
    "# 2. int, float, str, bool\n",
    "1. <class 'str'> - string 문자형\n",
    "2. <class 'int'> - integer 정수형\n",
    "3. <class 'float'> - float 실수형\n",
    "4. <class 'bool'> - boolean 참 거짓형\n",
    "5. <class 'list'> - list 배열"
   ]
  },
  {
   "cell_type": "markdown",
   "metadata": {},
   "source": [
    "### 1. int"
   ]
  },
  {
   "cell_type": "code",
   "execution_count": 23,
   "metadata": {},
   "outputs": [
    {
     "name": "stdout",
     "output_type": "stream",
     "text": [
      "<class 'int'>\n",
      "['__abs__', '__add__', '__and__', '__bool__', '__ceil__', '__class__', '__delattr__', '__dir__', '__divmod__', '__doc__', '__eq__', '__float__', '__floor__', '__floordiv__', '__format__', '__ge__', '__getattribute__', '__getnewargs__', '__gt__', '__hash__', '__index__', '__init__', '__init_subclass__', '__int__', '__invert__', '__le__', '__lshift__', '__lt__', '__mod__', '__mul__', '__ne__', '__neg__', '__new__', '__or__', '__pos__', '__pow__', '__radd__', '__rand__', '__rdivmod__', '__reduce__', '__reduce_ex__', '__repr__', '__rfloordiv__', '__rlshift__', '__rmod__', '__rmul__', '__ror__', '__round__', '__rpow__', '__rrshift__', '__rshift__', '__rsub__', '__rtruediv__', '__rxor__', '__setattr__', '__sizeof__', '__str__', '__sub__', '__subclasshook__', '__truediv__', '__trunc__', '__xor__', 'as_integer_ratio', 'bit_length', 'conjugate', 'denominator', 'from_bytes', 'imag', 'numerator', 'real', 'to_bytes']\n"
     ]
    }
   ],
   "source": [
    "# 1. int\n",
    "print(type(나이))\n",
    "print(dir(나이)) # 속성 출력, 이런 기능 들을 메소드(method)라고 한다.\n",
    "# __언더 함수__ : 매직 메소드\n",
    "# 언더 없는 것 : 메소드"
   ]
  },
  {
   "cell_type": "code",
   "execution_count": 33,
   "metadata": {
    "scrolled": true
   },
   "outputs": [
    {
     "name": "stdout",
     "output_type": "stream",
     "text": [
      "4\n",
      "0b1010\n",
      "7\n",
      "0b1100100\n"
     ]
    }
   ],
   "source": [
    "# 이진법(binary_code)\n",
    "# 이진법으로 변환 했을 때의 자릿수\n",
    "# 0b____\n",
    "나이 = 10\n",
    "print(나이.bit_length())\n",
    "print(bin(나이))\n",
    "\n",
    "나이_90년_후 = 100### 1. int\n",
    "print(나이_90년_후.bit_length())\n",
    "print(bin(나이_90년_후))"
   ]
  },
  {
   "cell_type": "markdown",
   "metadata": {},
   "source": [
    "### 2. float"
   ]
  },
  {
   "cell_type": "code",
   "execution_count": 34,
   "metadata": {},
   "outputs": [
    {
     "name": "stdout",
     "output_type": "stream",
     "text": [
      "1.2\n",
      "<class 'float'>\n",
      "['__abs__', '__add__', '__bool__', '__class__', '__delattr__', '__dir__', '__divmod__', '__doc__', '__eq__', '__float__', '__floordiv__', '__format__', '__ge__', '__getattribute__', '__getformat__', '__getnewargs__', '__gt__', '__hash__', '__init__', '__init_subclass__', '__int__', '__le__', '__lt__', '__mod__', '__mul__', '__ne__', '__neg__', '__new__', '__pos__', '__pow__', '__radd__', '__rdivmod__', '__reduce__', '__reduce_ex__', '__repr__', '__rfloordiv__', '__rmod__', '__rmul__', '__round__', '__rpow__', '__rsub__', '__rtruediv__', '__set_format__', '__setattr__', '__sizeof__', '__str__', '__sub__', '__subclasshook__', '__truediv__', '__trunc__', 'as_integer_ratio', 'conjugate', 'fromhex', 'hex', 'imag', 'is_integer', 'real']\n",
      "11.2\n"
     ]
    }
   ],
   "source": [
    "# 2. float\n",
    "print(몸무게)\n",
    "print(type(몸무게))\n",
    "print(dir(몸무게))\n",
    "\n",
    "print(몸무게 +10)"
   ]
  },
  {
   "cell_type": "markdown",
   "metadata": {},
   "source": [
    "### 3. str"
   ]
  },
  {
   "cell_type": "code",
   "execution_count": 41,
   "metadata": {},
   "outputs": [
    {
     "name": "stdout",
     "output_type": "stream",
     "text": [
      "위니브 월드 외각에 살고 있는 생선가게 주인 캣(cat)\n",
      "위\n",
      "니\n",
      "브\n",
      " \n",
      "월\n",
      "드\n",
      "['고기잡이', '고기팔기']\n",
      "고기잡이\n",
      "고기팔기\n"
     ]
    }
   ],
   "source": [
    "# 3. str\n",
    "# 사퀀스형 자료형\n",
    "\n",
    "# index, indexing\n",
    "print(설명)\n",
    "print(설명[0])\n",
    "print(설명[1])\n",
    "print(설명[2])\n",
    "print(설명[3])\n",
    "print(설명[4])\n",
    "print(설명[5])\n",
    "\n",
    "print(기술)\n",
    "print(기술[0])\n",
    "print(기술[1])"
   ]
  },
  {
   "cell_type": "code",
   "execution_count": 53,
   "metadata": {},
   "outputs": [
    {
     "name": "stdout",
     "output_type": "stream",
     "text": [
      "2220 02 22\n"
     ]
    }
   ],
   "source": [
    "# slicing\n",
    "캣의_생년월일 = '2220.02.22'\n",
    "생년 = 캣의_생년월일[:4]\n",
    "월 = 캣의_생년월일[5:7]\n",
    "일 = 캣의_생년월일[8:10]\n",
    "print(생년, 월, 일)"
   ]
  },
  {
   "cell_type": "code",
   "execution_count": 61,
   "metadata": {},
   "outputs": [
    {
     "name": "stdout",
     "output_type": "stream",
     "text": [
      "211101987654321\n",
      "13579012\n",
      "246\n",
      "876543\n",
      "2\n",
      "<class 'str'>\n",
      "['__add__', '__class__', '__contains__', '__delattr__', '__dir__', '__doc__', '__eq__', '__format__', '__ge__', '__getattribute__', '__getitem__', '__getnewargs__', '__gt__', '__hash__', '__init__', '__init_subclass__', '__iter__', '__le__', '__len__', '__lt__', '__mod__', '__mul__', '__ne__', '__new__', '__reduce__', '__reduce_ex__', '__repr__', '__rmod__', '__rmul__', '__setattr__', '__sizeof__', '__str__', '__subclasshook__', 'capitalize', 'casefold', 'center', 'count', 'encode', 'endswith', 'expandtabs', 'find', 'format', 'format_map', 'index', 'isalnum', 'isalpha', 'isascii', 'isdecimal', 'isdigit', 'isidentifier', 'islower', 'isnumeric', 'isprintable', 'isspace', 'istitle', 'isupper', 'join', 'ljust', 'lower', 'lstrip', 'maketrans', 'partition', 'replace', 'rfind', 'rindex', 'rjust', 'rpartition', 'rsplit', 'rstrip', 'split', 'splitlines', 'startswith', 'strip', 'swapcase', 'title', 'translate', 'upper', 'zfill']\n"
     ]
    }
   ],
   "source": [
    "# 변수이름[start:stop:step]\n",
    "숫자 = '123456789101112'\n",
    "print(숫자[::-1])\n",
    "print(숫자[::2])\n",
    "print(숫자[1:7:2])\n",
    "print(숫자[7:1:-1]) # 마이너스(역순) 인덱싱도 가능하다.\n",
    "print(숫자[-1])\n",
    "print(type(숫자))\n",
    "print(dir(숫자))"
   ]
  },
  {
   "cell_type": "code",
   "execution_count": 68,
   "metadata": {},
   "outputs": [
    {
     "data": {
      "text/plain": [
       "'각'"
      ]
     },
     "execution_count": 68,
     "metadata": {},
     "output_type": "execute_result"
    }
   ],
   "source": [
    "숫자.count('8') # 해당 숫자 개수\n",
    "설명.upper()    # 대문자 변환\n",
    "설명.lower()    # 소문자 변환\n",
    "'      hello world'.lstrip() # 왼쪽 공백 제거\n",
    "'      hello world'.strip()  # 양쪽 공백 제거\n",
    "'      hello world'.replace(' ', '!') # 변환\n",
    "설명.index('각')      # 각이 들어간 번째\n",
    "설명[설명.index('각')] # 각\n",
    "설명.find('각')\n",
    "설명[설명.find('각')]\n",
    "\n",
    "## index는 없는 글자에서 오류\n",
    "## find는 없는 글자일 경우 -1"
   ]
  },
  {
   "cell_type": "markdown",
   "metadata": {},
   "source": [
    "### 4. bool\n",
    "- 불리언 같은 경우 메서드를 잘 사용하지 않는다."
   ]
  },
  {
   "cell_type": "code",
   "execution_count": 70,
   "metadata": {},
   "outputs": [
    {
     "name": "stdout",
     "output_type": "stream",
     "text": [
      "<class 'bool'>\n",
      "['__abs__', '__add__', '__and__', '__bool__', '__ceil__', '__class__', '__delattr__', '__dir__', '__divmod__', '__doc__', '__eq__', '__float__', '__floor__', '__floordiv__', '__format__', '__ge__', '__getattribute__', '__getnewargs__', '__gt__', '__hash__', '__index__', '__init__', '__init_subclass__', '__int__', '__invert__', '__le__', '__lshift__', '__lt__', '__mod__', '__mul__', '__ne__', '__neg__', '__new__', '__or__', '__pos__', '__pow__', '__radd__', '__rand__', '__rdivmod__', '__reduce__', '__reduce_ex__', '__repr__', '__rfloordiv__', '__rlshift__', '__rmod__', '__rmul__', '__ror__', '__round__', '__rpow__', '__rrshift__', '__rshift__', '__rsub__', '__rtruediv__', '__rxor__', '__setattr__', '__sizeof__', '__str__', '__sub__', '__subclasshook__', '__truediv__', '__trunc__', '__xor__', 'as_integer_ratio', 'bit_length', 'conjugate', 'denominator', 'from_bytes', 'imag', 'numerator', 'real', 'to_bytes']\n"
     ]
    }
   ],
   "source": [
    "육식 = True\n",
    "초식 = True\n",
    "print(type(육식))\n",
    "print(dir(육식))"
   ]
  }
 ],
 "metadata": {
  "kernelspec": {
   "display_name": "Python 3",
   "language": "python",
   "name": "python3"
  },
  "language_info": {
   "codemirror_mode": {
    "name": "ipython",
    "version": 3
   },
   "file_extension": ".py",
   "mimetype": "text/x-python",
   "name": "python",
   "nbconvert_exporter": "python",
   "pygments_lexer": "ipython3",
   "version": "3.8.5"
  }
 },
 "nbformat": 4,
 "nbformat_minor": 4
}
