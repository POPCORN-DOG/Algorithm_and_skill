{
 "cells": [
  {
   "cell_type": "markdown",
   "metadata": {},
   "source": [
    "### 전체\n",
    "### participant\n",
    "<pre>\n",
    "[\"leo\", \"kiki\", \"eden\"]\n",
    "[\"marina\", \"josipa\", \"nikola\", \"vinko\", \"filipa\"]\n",
    "[\"mislav\", \"stanko\", \"mislav\", \"ana\"]\n",
    "</pre>\n",
    "<br>\n",
    "\n",
    "### 완주한 선수\n",
    "### completion \n",
    "<pre>\n",
    "[\"eden\", \"kiki\"]\n",
    "[\"josipa\", \"filipa\", \"marina\", \"nikola\"]\n",
    "[\"stanko\", \"ana\", \"mislav\"]\n",
    "</pre>\n",
    "<br>\n",
    "\n",
    "### 완주하지 못한 선수\n",
    "### return\n",
    "<pre>\n",
    "\"leo\"\n",
    "\"vinko\"\n",
    "\"mislav\"\n",
    "</pre>"
   ]
  },
  {
   "cell_type": "code",
   "execution_count": 57,
   "metadata": {},
   "outputs": [],
   "source": [
    "participant = [\"marina\", \"josipa\", \"nikola\", \"vinko\", \"filipa\"]\n",
    "completion =  [\"josipa\", \"filipa\", \"marina\", \"nikola\"]"
   ]
  },
  {
   "cell_type": "code",
   "execution_count": 58,
   "metadata": {},
   "outputs": [
    {
     "name": "stdout",
     "output_type": "stream",
     "text": [
      "['vinko']\n"
     ]
    }
   ],
   "source": [
    "for i in completion:\n",
    "    participant.remove(i)\n",
    "print(participant)"
   ]
  }
 ],
 "metadata": {
  "kernelspec": {
   "display_name": "Python 3",
   "language": "python",
   "name": "python3"
  },
  "language_info": {
   "codemirror_mode": {
    "name": "ipython",
    "version": 3
   },
   "file_extension": ".py",
   "mimetype": "text/x-python",
   "name": "python",
   "nbconvert_exporter": "python",
   "pygments_lexer": "ipython3",
   "version": "3.8.5"
  }
 },
 "nbformat": 4,
 "nbformat_minor": 4
}
